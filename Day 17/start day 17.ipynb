{
 "cells": [
  {
   "cell_type": "code",
   "execution_count": null,
   "metadata": {},
   "outputs": [],
   "source": [
    "#Creating classes"
   ]
  },
  {
   "cell_type": "code",
   "execution_count": 11,
   "metadata": {},
   "outputs": [],
   "source": [
    "class Userwww:\n",
    "    pass #we created a class with nothing inside\n",
    "\n",
    "\n",
    "class User: #we created a class with something inside\n",
    "    def __init__(self, user_id, username):\n",
    "        self.id = user_id\n",
    "        self.username = username\n",
    "        self.followers = 0 #It's a default value for all the objects created with this class\n",
    "        self.following = 0\n",
    "\n",
    "    def follow(self, user): #In this case the self refers to the user that begins to follow, and the user is the one \n",
    "        #With a new follower\n",
    "        user.followers += 1\n",
    "        self.following += 1\n",
    "\n",
    "#Every time we create a user from the User class we NEED to provide both id and username! \n",
    "user1=User('001','Ham')"
   ]
  },
  {
   "cell_type": "code",
   "execution_count": 12,
   "metadata": {},
   "outputs": [
    {
     "name": "stdout",
     "output_type": "stream",
     "text": [
      "Ham\n",
      "0\n"
     ]
    }
   ],
   "source": [
    "#Adding attributes to the object \n",
    "\n",
    "\n",
    "print(user1.username)\n",
    "print(user1.followers)\n",
    "\n"
   ]
  },
  {
   "cell_type": "code",
   "execution_count": 17,
   "metadata": {},
   "outputs": [],
   "source": [
    "user1 = User('001',\"Ham\")\n",
    "\n",
    "user2 = User('002',\"Cheese\")\n",
    "\n",
    "user1.follow(user2)"
   ]
  },
  {
   "cell_type": "code",
   "execution_count": 18,
   "metadata": {},
   "outputs": [
    {
     "name": "stdout",
     "output_type": "stream",
     "text": [
      "0\n",
      "1\n",
      "1\n",
      "0\n"
     ]
    }
   ],
   "source": [
    "print(user1.followers)\n",
    "print(user1.following)\n",
    "print(user2.followers)\n",
    "print(user2.following)"
   ]
  }
 ],
 "metadata": {
  "kernelspec": {
   "display_name": "Python 3.10.1 64-bit",
   "language": "python",
   "name": "python3"
  },
  "language_info": {
   "codemirror_mode": {
    "name": "ipython",
    "version": 3
   },
   "file_extension": ".py",
   "mimetype": "text/x-python",
   "name": "python",
   "nbconvert_exporter": "python",
   "pygments_lexer": "ipython3",
   "version": "3.10.1"
  },
  "orig_nbformat": 4,
  "vscode": {
   "interpreter": {
    "hash": "5d5f6d68acdb98a666ac6cbb620ba0c7fef50210cfb22291f01e0bec12f8d8de"
   }
  }
 },
 "nbformat": 4,
 "nbformat_minor": 2
}
