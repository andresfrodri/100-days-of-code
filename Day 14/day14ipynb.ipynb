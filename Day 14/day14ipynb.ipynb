{
  "nbformat": 4,
  "nbformat_minor": 0,
  "metadata": {
    "colab": {
      "provenance": [],
      "collapsed_sections": []
    },
    "kernelspec": {
      "name": "python3",
      "display_name": "Python 3"
    },
    "language_info": {
      "name": "python"
    }
  },
  "cells": [
    {
      "cell_type": "markdown",
      "source": [
        "## Higher or lower"
      ],
      "metadata": {
        "id": "yl4XrxItwKFU"
      }
    },
    {
      "cell_type": "code",
      "source": [
        "import random as rd\n",
        "from art import logo, vs\n",
        "from data import data\n",
        "from IPython.display import clear_output \n",
        "\n",
        "l0=[]\n",
        "\n",
        "l1=[]\n",
        "\n",
        "\n",
        "\n",
        "def contest(list1, data1):\n",
        "  \"\"\"Define the number of the contestant\n",
        "  \"\"\"\n",
        "  list1.append(rd.randint(0,len(data1)-1))\n",
        "  return list1\n",
        "\n",
        "\n",
        "def participants(dict1, list1):\n",
        "  \"\"\" Define the info of the contestant\"\"\"\n",
        "  list_info=[]\n",
        "  for i in range(2):\n",
        "    list_info.append(dict1[list1[i]].get(\"name\"))\n",
        "    list_info.append(dict1[list1[i]].get(\"description\"))\n",
        "    list_info.append(dict1[list1[i]].get(\"country\"))\n",
        "    list_info.append(dict1[list1[i]].get(\"follower_count\"))\n",
        "  return list_info\n",
        "\n",
        "\n",
        "\n",
        "def comparator(selector, other, list1, list2):\n",
        "  \"\"\" Compares the number of followers\n",
        "  of the contestants and decides a winner\"\"\"\n",
        "  score=0 #Globales\n",
        "  should_end = False #Globales\n",
        "  while not should_end:\n",
        "    clear_output()\n",
        "    if selector > other:\n",
        "      print(logo)\n",
        "      score += 1\n",
        "      print(f\"You're right! Current score: {score}\")\n",
        "      \n",
        "      for i in range(0,4):\n",
        "        list1.pop(0)\n",
        "      list2.pop(0)\n",
        "      contest(list2,data)\n",
        "      list1=participants(data,list2)\n",
        "      print(f\"Compare A: {list1[0]}, a {list1[1]}, from {list1[2]}.\")\n",
        "      print(vs)\n",
        "      print(f\"Against B: {list1[4]}, a {list1[5]}, from {list1[6]}.\")\n",
        "      selector=input(\"Who has more followers? Type 'A' or 'B': \")\n",
        "      if selector==\"A\" or \"a\":\n",
        "        selector=list1[3]\n",
        "        other=list1[7]\n",
        "      else:\n",
        "        selector=list1[7]\n",
        "        selector[3]\n",
        "      clear_output()\n",
        "    else:\n",
        "      print(logo)\n",
        "      print(f\"Sorry, final score: {score}\")\n",
        "      return\n",
        "\n",
        "\n",
        "def begin():\n",
        "  contest(l0,data)\n",
        "  contest(l0,data)\n",
        "  \n",
        "  if l0[0]==l0[1]:\n",
        "    l0[1]=rd.randint(0,len(data)-1)\n",
        "\n",
        "  print(l0)\n",
        "  info=participants(data,l0)\n",
        "\n",
        "  score_a=info[3]\n",
        "  score_b=info[7]\n",
        "  print(logo)\n",
        "  print(f\"Compare A: {info[0]}, a {info[1]}, from {info[2]}.\")\n",
        "  print(vs)\n",
        "  print(f\"Against B: {info[4]}, a {info[5]}, from {info[6]}.\")\n",
        "  other=0\n",
        "  selector=input(\"Who has more followers? Type 'A' or 'B': \")\n",
        "\n",
        "  if selector==\"A\" or selector==\"a\":\n",
        "    selector = score_a\n",
        "    other = score_b\n",
        "  else:\n",
        "    selector = score_a\n",
        "    other = score_b\n",
        "  comparator(selector, other, info, l0)\n",
        "   \n",
        "\n",
        "\n",
        "\n",
        "begin()\n"
      ],
      "metadata": {
        "colab": {
          "base_uri": "https://localhost:8080/"
        },
        "id": "NfC34_Rr3_Js",
        "outputId": "270a87fa-e074-4dc4-b2dc-134a5570a98f"
      },
      "execution_count": 328,
      "outputs": [
        {
          "output_type": "stream",
          "name": "stdout",
          "text": [
            "\n",
            "    __  ___       __             \n",
            "   / / / (_)___ _/ /_  ___  _____\n",
            "  / /_/ / / __ `/ __ \\/ _ \\/ ___/\n",
            " / __  / / /_/ / / / /  __/ /    \n",
            "/_/ ///_/\\__, /_/ /_/\\___/_/     \n",
            "   / /  /____/_      _____  _____\n",
            "  / /   / __ \\ | /| / / _ \\/ ___/\n",
            " / /___/ /_/ / |/ |/ /  __/ /    \n",
            "/_____/\\____/|__/|__/\\___/_/     \n",
            "\n",
            "Sorry, final score: 1\n"
          ]
        }
      ]
    },
    {
      "cell_type": "code",
      "source": [],
      "metadata": {
        "id": "YT6Za3xQnUDx"
      },
      "execution_count": null,
      "outputs": []
    }
  ]
}