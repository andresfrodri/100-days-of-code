{
  "nbformat": 4,
  "nbformat_minor": 0,
  "metadata": {
    "colab": {
      "provenance": [],
      "collapsed_sections": []
    },
    "kernelspec": {
      "name": "python3",
      "display_name": "Python 3"
    },
    "language_info": {
      "name": "python"
    }
  },
  "cells": [
    {
      "cell_type": "code",
      "source": [
        "enemies = 1\n",
        "def increase_enemies():\n",
        "  enemies = 2\n",
        "  print(f\"enemies inside function: {enemies}\")\n",
        "\n",
        "increase_enemies()\n",
        "print(f\"enemies outside funciton: {enemies}\")"
      ],
      "metadata": {
        "colab": {
          "base_uri": "https://localhost:8080/"
        },
        "id": "b_okj-mRZkZg",
        "outputId": "a164db4d-dfbc-4099-89ef-12327c5345b5"
      },
      "execution_count": 2,
      "outputs": [
        {
          "output_type": "stream",
          "name": "stdout",
          "text": [
            "enemies inside function: 2\n",
            "enemies outside funciton: 1\n"
          ]
        }
      ]
    },
    {
      "cell_type": "code",
      "source": [
        "game_level = 3\n",
        "\n",
        "enemies=[\"Skeleton\", \"Zombie\", \"Creeper\"]\n",
        "\n",
        "if game_level < 5:\n",
        "  new_enemy = enemies[0]\n",
        "\n",
        "print(new_enemy)\n"
      ],
      "metadata": {
        "colab": {
          "base_uri": "https://localhost:8080/"
        },
        "id": "tuUCshmOeJe8",
        "outputId": "4e44bd9b-2926-4192-df72-1f261688f923"
      },
      "execution_count": 4,
      "outputs": [
        {
          "output_type": "stream",
          "name": "stdout",
          "text": [
            "Skeleton\n"
          ]
        }
      ]
    },
    {
      "cell_type": "code",
      "source": [
        "#Modifying the Global Scope\n",
        "\n",
        "enemies = 1 #Global Scope\n",
        "def increase_enemies():\n",
        "  enemies += 1#Local Scope\n",
        "  print(f\"enemies inside function: {enemies}\")\n",
        "\n",
        "increase_enemies()\n",
        "print(f\"enemies outside funciton: {enemies}\")"
      ],
      "metadata": {
        "colab": {
          "base_uri": "https://localhost:8080/",
          "height": 356
        },
        "id": "EnjkdthsfAlt",
        "outputId": "3750f294-72ba-4db0-9a57-15cfb1ea2fab"
      },
      "execution_count": 9,
      "outputs": [
        {
          "output_type": "error",
          "ename": "UnboundLocalError",
          "evalue": "ignored",
          "traceback": [
            "\u001b[0;31m---------------------------------------------------------------------------\u001b[0m",
            "\u001b[0;31mUnboundLocalError\u001b[0m                         Traceback (most recent call last)",
            "\u001b[0;32m<ipython-input-9-3209029b04d4>\u001b[0m in \u001b[0;36m<module>\u001b[0;34m\u001b[0m\n\u001b[1;32m      6\u001b[0m   \u001b[0mprint\u001b[0m\u001b[0;34m(\u001b[0m\u001b[0;34mf\"enemies inside function: {enemies}\"\u001b[0m\u001b[0;34m)\u001b[0m\u001b[0;34m\u001b[0m\u001b[0;34m\u001b[0m\u001b[0m\n\u001b[1;32m      7\u001b[0m \u001b[0;34m\u001b[0m\u001b[0m\n\u001b[0;32m----> 8\u001b[0;31m \u001b[0mincrease_enemies\u001b[0m\u001b[0;34m(\u001b[0m\u001b[0;34m)\u001b[0m\u001b[0;34m\u001b[0m\u001b[0;34m\u001b[0m\u001b[0m\n\u001b[0m\u001b[1;32m      9\u001b[0m \u001b[0mprint\u001b[0m\u001b[0;34m(\u001b[0m\u001b[0;34mf\"enemies outside funciton: {enemies}\"\u001b[0m\u001b[0;34m)\u001b[0m\u001b[0;34m\u001b[0m\u001b[0;34m\u001b[0m\u001b[0m\n",
            "\u001b[0;32m<ipython-input-9-3209029b04d4>\u001b[0m in \u001b[0;36mincrease_enemies\u001b[0;34m()\u001b[0m\n\u001b[1;32m      3\u001b[0m \u001b[0menemies\u001b[0m \u001b[0;34m=\u001b[0m \u001b[0;36m1\u001b[0m \u001b[0;31m#Global Scope\u001b[0m\u001b[0;34m\u001b[0m\u001b[0;34m\u001b[0m\u001b[0m\n\u001b[1;32m      4\u001b[0m \u001b[0;32mdef\u001b[0m \u001b[0mincrease_enemies\u001b[0m\u001b[0;34m(\u001b[0m\u001b[0;34m)\u001b[0m\u001b[0;34m:\u001b[0m\u001b[0;34m\u001b[0m\u001b[0;34m\u001b[0m\u001b[0m\n\u001b[0;32m----> 5\u001b[0;31m   \u001b[0menemies\u001b[0m \u001b[0;34m+=\u001b[0m \u001b[0;36m1\u001b[0m\u001b[0;31m#Local Scope\u001b[0m\u001b[0;34m\u001b[0m\u001b[0;34m\u001b[0m\u001b[0m\n\u001b[0m\u001b[1;32m      6\u001b[0m   \u001b[0mprint\u001b[0m\u001b[0;34m(\u001b[0m\u001b[0;34mf\"enemies inside function: {enemies}\"\u001b[0m\u001b[0;34m)\u001b[0m\u001b[0;34m\u001b[0m\u001b[0;34m\u001b[0m\u001b[0m\n\u001b[1;32m      7\u001b[0m \u001b[0;34m\u001b[0m\u001b[0m\n",
            "\u001b[0;31mUnboundLocalError\u001b[0m: local variable 'enemies' referenced before assignment"
          ]
        }
      ]
    },
    {
      "cell_type": "markdown",
      "source": [
        "El error anterior se debe a que dentro de la función no se conocia a la variable global, hay que enunciarla explicatamente"
      ],
      "metadata": {
        "id": "Fo3qWmHWf7Oc"
      }
    },
    {
      "cell_type": "code",
      "source": [
        "\n",
        "enemies = 1 #Global Scope\n",
        "def increase_enemies():\n",
        "  global enemies     #Ahora si funciona, porque cambiamos la variable global dentro de un entorno local\n",
        "  enemies += 1  #Local Scope\n",
        "  print(f\"enemies inside function: {enemies}\")\n",
        "\n",
        "increase_enemies()\n",
        "print(f\"enemies outside funciton: {enemies}\")"
      ],
      "metadata": {
        "colab": {
          "base_uri": "https://localhost:8080/"
        },
        "id": "ZRqTexuLgEa6",
        "outputId": "0ea3814a-a589-4aa0-e0a5-19d6c2b07e40"
      },
      "execution_count": 10,
      "outputs": [
        {
          "output_type": "stream",
          "name": "stdout",
          "text": [
            "enemies inside function: 2\n",
            "enemies outside funciton: 2\n"
          ]
        }
      ]
    },
    {
      "cell_type": "code",
      "source": [
        "enemies = 1 #Global Scope\n",
        "def increase_enemies():\n",
        "  print(f\"enemies inside function: {enemies}\")\n",
        "  return enemies + 1   #This calls the GLOBAL variable and changes it\n",
        "\n",
        "enemies = increase_enemies()\n",
        "print(f\"enemies outside funciton: {enemies}\")"
      ],
      "metadata": {
        "colab": {
          "base_uri": "https://localhost:8080/"
        },
        "id": "k9wkDkkOg16U",
        "outputId": "67da97e3-e645-459c-e681-dea4cb0e9eb4"
      },
      "execution_count": 11,
      "outputs": [
        {
          "output_type": "stream",
          "name": "stdout",
          "text": [
            "enemies inside function: 1\n",
            "enemies outside funciton: 2\n"
          ]
        }
      ]
    },
    {
      "cell_type": "code",
      "source": [
        "#Global constants\n",
        "\n",
        "\n",
        "PI = 3.1415926\n",
        "\n"
      ],
      "metadata": {
        "id": "8JjBM09shTYz"
      },
      "execution_count": null,
      "outputs": []
    },
    {
      "cell_type": "code",
      "source": [
        "logo = \"\"\"\n",
        "  _______                             __   __                                   __               \n",
        " |   _   .--.--.-----.-----.-----.   |  |_|  |--.-----.   .-----.--.--.--------|  |--.-----.----.\n",
        " |.  |___|  |  |  -__|__ --|__ --|   |   _|     |  -__|   |     |  |  |        |  _  |  -__|   _|\n",
        " |.  |   |_____|_____|_____|_____|   |____|__|__|_____|   |__|__|_____|__|__|__|_____|_____|__|  \n",
        " |:  1   |                                                                                       \n",
        " |::.. . |                                                                                       \n",
        " `-------'                                                                                       \n",
        "                                                                                                 \n",
        "\"\"\""
      ],
      "metadata": {
        "id": "4vSLpyyusmiz"
      },
      "execution_count": 46,
      "outputs": []
    },
    {
      "cell_type": "code",
      "source": [
        "import random as rd\n",
        "print(\"Welcome to guess the number, I'm thinking a number between 1 and 100\")\n",
        "\n",
        "number = rd.choice(range(1,100))\n",
        "\n",
        "def guesser():\n",
        "  guess=int(input('Make a guess: '))\n",
        "  if guess == number:\n",
        "    return 0\n",
        "  elif guess < number:\n",
        "    print(\"Too low\")\n",
        "    print(\"Guess again!\")\n",
        "  else:\n",
        "    print(\"Too high\")\n",
        "    print(\"Guess again!\")\n",
        "\n",
        "\n",
        "def game():\n",
        "\n",
        "  Should_stop = False\n",
        "  print(logo)\n",
        "  dif = input(\"Choose your difficulty type 'easy' or 'hard': \")\n",
        "  if dif == \"easy\":\n",
        "    lives=10\n",
        "  else:\n",
        "    lives=5\n",
        "\n",
        "  while not Should_stop:\n",
        "    if lives !=0:\n",
        "      print(f\"You have {lives} attempls remaining to guess the number\")\n",
        "      a=guesser()\n",
        "      lives -= 1\n",
        "      if a==0:\n",
        "        print(f\"You win the number was {number}\")\n",
        "        return\n",
        "    else:\n",
        "      print(f\"You've run out of guesses, you lose... The number was {number}\")\n",
        "      return \n",
        "\n",
        "\n",
        "game()"
      ],
      "metadata": {
        "colab": {
          "base_uri": "https://localhost:8080/"
        },
        "id": "avIhj2Gui_d-",
        "outputId": "dd955d37-06b4-4c95-ea0e-8b31f19fd71b"
      },
      "execution_count": 51,
      "outputs": [
        {
          "output_type": "stream",
          "name": "stdout",
          "text": [
            "Welcome to guess the number, I'm thinking a number between 1 and 100\n",
            "\n",
            "  _______                             __   __                                   __               \n",
            " |   _   .--.--.-----.-----.-----.   |  |_|  |--.-----.   .-----.--.--.--------|  |--.-----.----.\n",
            " |.  |___|  |  |  -__|__ --|__ --|   |   _|     |  -__|   |     |  |  |        |  _  |  -__|   _|\n",
            " |.  |   |_____|_____|_____|_____|   |____|__|__|_____|   |__|__|_____|__|__|__|_____|_____|__|  \n",
            " |:  1   |                                                                                       \n",
            " |::.. . |                                                                                       \n",
            " `-------'                                                                                       \n",
            "                                                                                                 \n",
            "\n",
            "Choose your difficulty type 'easy' or 'hard': y\n",
            "You have 5 attempls remaining to guess the number\n",
            "Make a guess: 3\n",
            "Too low\n",
            "Guess again!\n",
            "You have 4 attempls remaining to guess the number\n",
            "Make a guess: 3\n",
            "Too low\n",
            "Guess again!\n",
            "You have 3 attempls remaining to guess the number\n",
            "Make a guess: 3\n",
            "Too low\n",
            "Guess again!\n",
            "You have 2 attempls remaining to guess the number\n",
            "Make a guess: 3\n",
            "Too low\n",
            "Guess again!\n",
            "You have 1 attempls remaining to guess the number\n",
            "Make a guess: 3\n",
            "Too low\n",
            "Guess again!\n",
            "You've run out of guesses, you lose... The number was 55\n"
          ]
        }
      ]
    }
  ]
}