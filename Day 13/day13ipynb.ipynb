{
  "nbformat": 4,
  "nbformat_minor": 0,
  "metadata": {
    "colab": {
      "provenance": [],
      "collapsed_sections": []
    },
    "kernelspec": {
      "name": "python3",
      "display_name": "Python 3"
    },
    "language_info": {
      "name": "python"
    }
  },
  "cells": [
    {
      "cell_type": "markdown",
      "source": [
        "## Debugging"
      ],
      "metadata": {
        "id": "yl4XrxItwKFU"
      }
    },
    {
      "cell_type": "code",
      "source": [
        "############DEBUGGING#####################\n",
        "\n",
        "# Describe Problem\n",
        "def my_function():\n",
        "  for i in range(1, 21):  #This is taking the elements from 1 to \"20\" but really only reaches 19\n",
        "    if i == 20:           #This is making a condition when i == 20 \n",
        "      print(\"You got it\") #print() should appear when i == 20;\n",
        "my_function()\n"
      ],
      "metadata": {
        "colab": {
          "base_uri": "https://localhost:8080/"
        },
        "id": "DE0TNMaywNQw",
        "outputId": "52f8e54d-76fa-49e4-e3ee-b4dab7f818fb"
      },
      "execution_count": null,
      "outputs": [
        {
          "output_type": "stream",
          "name": "stdout",
          "text": [
            "You got it\n"
          ]
        }
      ]
    },
    {
      "cell_type": "code",
      "source": [
        "# Reproduce the Bug\n",
        "from random import randint\n",
        "dice_imgs = [\"❶\", \"❷\", \"❸\", \"❹\", \"❺\", \"❻\"]\n",
        "dice_num = randint(0, 5)\n",
        "print(dice_imgs[dice_num])\n",
        "#Before it give us the error of index out of range it's already fixed"
      ],
      "metadata": {
        "colab": {
          "base_uri": "https://localhost:8080/"
        },
        "id": "Kqa-7m-Vxi6p",
        "outputId": "282f8a4a-b325-462a-bd20-4ff66cec75ec"
      },
      "execution_count": null,
      "outputs": [
        {
          "output_type": "stream",
          "name": "stdout",
          "text": [
            "❺\n"
          ]
        }
      ]
    },
    {
      "cell_type": "code",
      "source": [
        "# Play Computer\n",
        "year = int(input(\"What's your year of birth? \")) #Input an integer\n",
        "if year > 1980 and year < 1994: #Condition that ages between (1980,1994)\n",
        "  print(\"You are a millenial.\")   #Prints if condition is true\n",
        "elif year >= 1994: # condition for (1994, infty)\n",
        "  print(\"You are a Gen Z.\") #Prints condition if true\n",
        "\n",
        "#The error was > instead of >="
      ],
      "metadata": {
        "colab": {
          "base_uri": "https://localhost:8080/"
        },
        "id": "wjfEUQf_yJAX",
        "outputId": "42df0a13-09b3-4908-9b14-058d961ee1e1"
      },
      "execution_count": null,
      "outputs": [
        {
          "output_type": "stream",
          "name": "stdout",
          "text": [
            "What's your year of birth? 1994\n",
            "You are a Gen Z.\n"
          ]
        }
      ]
    },
    {
      "cell_type": "code",
      "source": [
        "\n",
        "# Fix the Errors\n",
        "age = int(input(\"How old are you? \"))\n",
        "if age > 18:\n",
        "  print(f\"You can drive at age {age}.\")"
      ],
      "metadata": {
        "colab": {
          "base_uri": "https://localhost:8080/"
        },
        "id": "vO_4vTtMzPSk",
        "outputId": "ce77b051-8713-4a2c-a03c-fc119c053919"
      },
      "execution_count": null,
      "outputs": [
        {
          "output_type": "stream",
          "name": "stdout",
          "text": [
            "How old are you? 21\n",
            "You can drive at age 21.\n"
          ]
        }
      ]
    },
    {
      "cell_type": "code",
      "source": [
        "#Print is Your Friend\n",
        "pages = 0\n",
        "word_per_page = 0\n",
        "pages = int(input(\"Number of pages: \"))\n",
        "word_per_page = int(input(\"Number of words per page: \"))\n",
        "total_words = pages * word_per_page\n",
        "print(total_words)"
      ],
      "metadata": {
        "colab": {
          "base_uri": "https://localhost:8080/"
        },
        "id": "Do5wfkvHzsxw",
        "outputId": "11219e4d-8b0f-4e1f-f9d5-34f71924227e"
      },
      "execution_count": null,
      "outputs": [
        {
          "output_type": "stream",
          "name": "stdout",
          "text": [
            "Number of pages: 15\n",
            "Number of words per page: 5\n",
            "75\n"
          ]
        }
      ]
    },
    {
      "cell_type": "code",
      "source": [
        "#Use a Debugger\n",
        "def mutate(a_list):\n",
        "  b_list = []\n",
        "  for item in a_list:\n",
        "    new_item = item * 2\n",
        "    b_list.append(new_item)\n",
        "  print(b_list)\n",
        "\n",
        "mutate([1,2,3,5,8,13])"
      ],
      "metadata": {
        "colab": {
          "base_uri": "https://localhost:8080/"
        },
        "id": "EfYX2qTLwbXP",
        "outputId": "e122c4d9-9b13-445a-cac2-a897815d1b39"
      },
      "execution_count": null,
      "outputs": [
        {
          "output_type": "stream",
          "name": "stdout",
          "text": [
            "[2, 4, 6, 10, 16, 26]\n"
          ]
        }
      ]
    }
  ]
}