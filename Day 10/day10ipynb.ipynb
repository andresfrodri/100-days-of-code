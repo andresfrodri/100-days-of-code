{
  "nbformat": 4,
  "nbformat_minor": 0,
  "metadata": {
    "colab": {
      "provenance": [],
      "collapsed_sections": []
    },
    "kernelspec": {
      "name": "python3",
      "display_name": "Python 3"
    },
    "language_info": {
      "name": "python"
    }
  },
  "cells": [
    {
      "cell_type": "markdown",
      "source": [
        "#Day 10: Functions with outputs"
      ],
      "metadata": {
        "id": "S_XlGzT6vgi4"
      }
    },
    {
      "cell_type": "code",
      "source": [
        "#Creating simple functions\n",
        "def format_name(f_name,l_name):\n",
        "  formated_f_name=f_name.title()\n",
        "  formated_l_name=l_name.title()\n",
        "  return f\"{formated_f_name} {formated_l_name}\"\n",
        "\n",
        "formated_name=format_name(\"SaLAd\",\"aSS\")\n",
        "print(formated_name)"
      ],
      "metadata": {
        "colab": {
          "base_uri": "https://localhost:8080/"
        },
        "id": "11m2E_stviU2",
        "outputId": "525dd295-5a0b-4a06-c627-9499d5bed89b"
      },
      "execution_count": 2,
      "outputs": [
        {
          "output_type": "stream",
          "name": "stdout",
          "text": [
            "Salad Ass\n"
          ]
        }
      ]
    },
    {
      "cell_type": "code",
      "source": [
        "#With more than one return statement (Early return)\n",
        "def format_name(f_name,l_name):\n",
        "  if f_name == '' or l_name == \"\":\n",
        "    return \"You didn't provide valid inputs!\" #This terminates the function early\n",
        "  formated_f_name=f_name.title()\n",
        "  formated_l_name=l_name.title()\n",
        "  return f\"{formated_f_name} {formated_l_name}\"\n",
        "\n",
        "formated_name=format_name(input(\"What is your first name? \"), input(\"What is your last name? \"))\n",
        "print(formated_name)"
      ],
      "metadata": {
        "colab": {
          "base_uri": "https://localhost:8080/"
        },
        "id": "-V3uo1BiyQUV",
        "outputId": "05c0e6fe-1cc1-4b31-e17e-d92af7ec417c"
      },
      "execution_count": 7,
      "outputs": [
        {
          "output_type": "stream",
          "name": "stdout",
          "text": [
            "What is your first name? \n",
            "What is your last name? \n",
            "You didn't provide valid inputs!\n"
          ]
        }
      ]
    },
    {
      "cell_type": "code",
      "source": [
        "#Days in month\n",
        "\n",
        "def is_leap(year):\n",
        "  if year % 4 == 0:\n",
        "    if year % 100 == 0:\n",
        "      if year % 400 == 0:\n",
        "        return True\n",
        "      else:\n",
        "        return False\n",
        "    else:\n",
        "      return True\n",
        "  else:\n",
        "    return False\n",
        "\n",
        "def days_in_month(years,months):\n",
        "  month_days = [31, 28, 31, 30, 31, 30, 31, 31, 30, 31, 30, 31] \n",
        "  if months<1 or months>12:\n",
        "    return \"Invalid month\"\n",
        "  if is_leap(years) == True:\n",
        "    month_days[1] = 29\n",
        "\n",
        "  return month_days[months-1]\n",
        "  \n",
        "  \n",
        "#🚨 Do NOT change any of the code below \n",
        "year = int(input(\"Enter a year: \"))\n",
        "month = int(input(\"Enter a month: \"))\n",
        "days = days_in_month(year, month)\n",
        "print(days)\n"
      ],
      "metadata": {
        "colab": {
          "base_uri": "https://localhost:8080/"
        },
        "id": "12SHyiFk0Ycz",
        "outputId": "4f2c79ec-fa4a-4c9a-fb59-c8e1c55a0f8f"
      },
      "execution_count": 41,
      "outputs": [
        {
          "output_type": "stream",
          "name": "stdout",
          "text": [
            "Enter a year: 2001\n",
            "Enter a month: 2\n",
            "28\n"
          ]
        }
      ]
    },
    {
      "cell_type": "code",
      "source": [
        "#Docstrings: Little bits of documentation for the function\n",
        "def format_name(f_name,l_name):\n",
        "  \"\"\"Take the first and the last name, and format\n",
        "  it to return the tittle case version of the full name.\"\"\"\n",
        "  if f_name == '' or l_name == \"\":\n",
        "    return \"You didn't provide valid inputs!\" #This terminates the function early\n",
        "  formated_f_name=f_name.title()\n",
        "  formated_l_name=l_name.title()\n",
        "  return f\"{formated_f_name} {formated_l_name}\"\n",
        "\n",
        "formated_name=format_name(input(\"What is your first name? \"), input(\"What is your last name? \"))\n",
        "print(formated_name)"
      ],
      "metadata": {
        "colab": {
          "base_uri": "https://localhost:8080/"
        },
        "id": "_Qg_j8Mf6j4x",
        "outputId": "018ef7f5-4f06-417e-d885-11b3f91f3010"
      },
      "execution_count": 42,
      "outputs": [
        {
          "output_type": "stream",
          "name": "stdout",
          "text": [
            "What is your first name? Sald\n",
            "What is your last name? eee\n",
            "Sald Eee\n"
          ]
        }
      ]
    },
    {
      "cell_type": "markdown",
      "source": [
        "#Calculator"
      ],
      "metadata": {
        "id": "gD8cYQsr8Ddd"
      }
    },
    {
      "cell_type": "code",
      "source": [
        "#Creating the functions \n",
        "#Add\n",
        "def add(n1,n2):\n",
        "  return n1 + n2\n",
        "\n",
        "#Substract\n",
        "\n",
        "def substract(n1,n2):\n",
        "  return n1 - n2\n",
        "\n",
        "#Multiply\n",
        "\n",
        "def multiply(n1,n2):\n",
        "  return n1 * n2\n",
        "\n",
        "#Divide\n",
        "\n",
        "def divide(n1,n2):\n",
        "  return n1 / n2\n",
        "\n",
        "operations = {\"+\" : add , \"-\" : substract, \"*\" : multiply, \"/\" : divide}\n",
        "num1 = int(input(\"Whats your first number?: \"))\n",
        "\n",
        "\n",
        "for i in operations: \n",
        "  print(i)\n",
        "\n",
        "operation_symbol = input('Pick an operation from the line above: ')\n",
        "\n",
        "num2 = int(input(\"Whats your second number?: \"))\n",
        "\n",
        "calculation_function=operations[operation_symbol]\n",
        "\n",
        "answer= calculation_function(num1,num2)\n",
        "\n",
        "\n",
        "print(f\"{num1} {operation_symbol} {num2} = {answer}\")\n"
      ],
      "metadata": {
        "colab": {
          "base_uri": "https://localhost:8080/"
        },
        "id": "KGQMXNEH8RHt",
        "outputId": "1f1474ce-4b61-46a4-98c7-09ad9248f229"
      },
      "execution_count": 59,
      "outputs": [
        {
          "output_type": "stream",
          "name": "stdout",
          "text": [
            "Whats your first number?: 23\n",
            "+\n",
            "-\n",
            "*\n",
            "/\n",
            "Pick an operation from the line above: +\n",
            "Whats your second number?: 7\n",
            "23 + 7 = 30\n"
          ]
        }
      ]
    },
    {
      "cell_type": "code",
      "source": [
        "num1 = int(input(\"Whats your first number?: \"))\n",
        "\n",
        "\n",
        "for i in operations: \n",
        "  print(i)\n",
        "  \n",
        "operation_symbol = input('Pick an operation from the line above: ')\n",
        "\n",
        "num2 = int(input(\"Whats your second number?: \"))\n",
        "\n",
        "calculation_function=operations[operation_symbol]\n",
        "\n",
        "answer= calculation_function(num1,num2)\n",
        "\n",
        "\n",
        "print(f\"{num1} {operation_symbol} {num2} = {answer}\")\n",
        "\n",
        "flag = True\n",
        "\n",
        "while flag == True:\n",
        "  a = input(f\"Type 'y' to continue calculating with {answer}, or type 'n' to exit: \")\n",
        "  if a == \"y\":\n",
        "    ans1=answer\n",
        "    operation_symbol = input('Pick another operation: ')\n",
        "    \n",
        "    num2 = int(input(\"Enter the next number: \"))\n",
        "    \n",
        "    calculation_function=operations[operation_symbol]\n",
        "    \n",
        "    answer = calculation_function(answer, num2)\n",
        "    \n",
        "    print(f\"{ans1} {operation_symbol} {num2} = {answer}\") \n",
        "  elif a == \"n\":\n",
        "    flag = False\n",
        "  else:\n",
        "    print(\"Follow the instructions!\")\n",
        "\n",
        "  "
      ],
      "metadata": {
        "colab": {
          "base_uri": "https://localhost:8080/"
        },
        "id": "VV2NZng5DFeb",
        "outputId": "60255a5c-e63c-4419-8ad9-6a378c1c0036"
      },
      "execution_count": 68,
      "outputs": [
        {
          "name": "stdout",
          "output_type": "stream",
          "text": [
            "Whats your first number?: 3\n",
            "+\n",
            "-\n",
            "*\n",
            "/\n",
            "Pick an operation from the line above: *\n",
            "Whats your second number?: 4\n",
            "3 * 4 = 12\n",
            "Type 'y' to continue calculating with 12, or type 'n' to exit: y\n",
            "Pick another operation: /\n",
            "Enter the next number: 6\n",
            "12 / 6 = 2.0\n",
            "Type 'y' to continue calculating with 2.0, or type 'n' to exit: y\n",
            "Pick another operation: *\n",
            "Enter the next number: 70\n",
            "2.0 * 70 = 140.0\n",
            "Type 'y' to continue calculating with 140.0, or type 'n' to exit: g\n",
            "Follow the instructions!\n",
            "Type 'y' to continue calculating with 140.0, or type 'n' to exit: n\n"
          ]
        }
      ]
    },
    {
      "cell_type": "code",
      "source": [
        "logo = \"\"\"\n",
        " _____________________\n",
        "|  _________________  |\n",
        "| | Pythonista   0. | |  .----------------.  .----------------.  .----------------.  .----------------. \n",
        "| |_________________| | | .--------------. || .--------------. || .--------------. || .--------------. |\n",
        "|  ___ ___ ___   ___  | | |     ______   | || |      __      | || |   _____      | || |     ______   | |\n",
        "| | 7 | 8 | 9 | | + | | | |   .' ___  |  | || |     /  \\     | || |  |_   _|     | || |   .' ___  |  | |\n",
        "| |___|___|___| |___| | | |  / .'   \\_|  | || |    / /\\ \\    | || |    | |       | || |  / .'   \\_|  | |\n",
        "| | 4 | 5 | 6 | | - | | | |  | |         | || |   / ____ \\   | || |    | |   _   | || |  | |         | |\n",
        "| |___|___|___| |___| | | |  \\ `.___.'\\  | || | _/ /    \\ \\_ | || |   _| |__/ |  | || |  \\ `.___.'\\  | |\n",
        "| | 1 | 2 | 3 | | x | | | |   `._____.'  | || ||____|  |____|| || |  |________|  | || |   `._____.'  | |\n",
        "| |___|___|___| |___| | | |              | || |              | || |              | || |              | |\n",
        "| | . | 0 | = | | / | | | '--------------' || '--------------' || '--------------' || '--------------' |\n",
        "| |___|___|___| |___| |  '----------------'  '----------------'  '----------------'  '----------------' \n",
        "|_____________________|\n",
        "\"\"\"\n"
      ],
      "metadata": {
        "id": "0vbljzjFgS2C"
      },
      "execution_count": 77,
      "outputs": []
    },
    {
      "cell_type": "code",
      "source": [
        "\n",
        "def calculation():\n",
        "  print(logo)\n",
        "  num1 = float(input(\"Whats your first number?: \"))\n",
        "\n",
        "\n",
        "  for i in operations: \n",
        "    print(i)\n",
        "  \n",
        "  operation_symbol = input('Pick an operation from the line above: ')\n",
        "  if operation_symbol not in operations:\n",
        "    answer = \"Invalid operation\"\n",
        "    return answer\n",
        "\n",
        "  num2 = float(input(\"Whats your second number?: \"))\n",
        "\n",
        "  calculation_function=operations[operation_symbol]\n",
        "\n",
        "  answer = calculation_function(num1,num2)\n",
        "\n",
        "\n",
        "  print(f\"{num1} {operation_symbol} {num2} = {answer}\")\n",
        "\n",
        "  flag = True\n",
        "  while flag == True:\n",
        "    a = input(f\"Type 'y' to continue calculating with {answer}, type 'n' to make a new calculation, or type 'E' to exit: \")\n",
        "    if a == \"y\":\n",
        "      ans1=answer\n",
        "      operation_symbol = input('Pick another operation: ')\n",
        "      if operation_symbol not in operations:\n",
        "        answer = \"Invalid operation\"\n",
        "        return answer\n",
        "    \n",
        "      num3 = float(input(\"Enter the next number: \"))\n",
        "    \n",
        "      calculation_function=operations[operation_symbol]\n",
        "\n",
        "      answer = calculation_function(answer, num2)\n",
        "    \n",
        "      print(f\"{ans1} {operation_symbol} {num3} = {answer}\") \n",
        "    elif a == \"E\":\n",
        "      flag = False\n",
        "    elif a==\"n\":\n",
        "      calculation()\n",
        "    else:\n",
        "      print(\"Follow the instructions!\")\n",
        "\n",
        "calculation()"
      ],
      "metadata": {
        "colab": {
          "base_uri": "https://localhost:8080/",
          "height": 516
        },
        "id": "ShWAkVKjG20a",
        "outputId": "b58b9354-7800-4868-c4d1-ffb8b78d8d9b"
      },
      "execution_count": 81,
      "outputs": [
        {
          "name": "stdout",
          "output_type": "stream",
          "text": [
            "\n",
            " _____________________\n",
            "|  _________________  |\n",
            "| | Pythonista   0. | |  .----------------.  .----------------.  .----------------.  .----------------. \n",
            "| |_________________| | | .--------------. || .--------------. || .--------------. || .--------------. |\n",
            "|  ___ ___ ___   ___  | | |     ______   | || |      __      | || |   _____      | || |     ______   | |\n",
            "| | 7 | 8 | 9 | | + | | | |   .' ___  |  | || |     /  \\     | || |  |_   _|     | || |   .' ___  |  | |\n",
            "| |___|___|___| |___| | | |  / .'   \\_|  | || |    / /\\ \\    | || |    | |       | || |  / .'   \\_|  | |\n",
            "| | 4 | 5 | 6 | | - | | | |  | |         | || |   / ____ \\   | || |    | |   _   | || |  | |         | |\n",
            "| |___|___|___| |___| | | |  \\ `.___.'\\  | || | _/ /    \\ \\_ | || |   _| |__/ |  | || |  \\ `.___.'\\  | |\n",
            "| | 1 | 2 | 3 | | x | | | |   `._____.'  | || ||____|  |____|| || |  |________|  | || |   `._____.'  | |\n",
            "| |___|___|___| |___| | | |              | || |              | || |              | || |              | |\n",
            "| | . | 0 | = | | / | | | '--------------' || '--------------' || '--------------' || '--------------' |\n",
            "| |___|___|___| |___| |  '----------------'  '----------------'  '----------------'  '----------------' \n",
            "|_____________________|\n",
            "\n",
            "Whats your first number?: 4\n",
            "+\n",
            "-\n",
            "*\n",
            "/\n",
            "Pick an operation from the line above: *\n",
            "Whats your second number?: 4\n",
            "4.0 * 4.0 = 16.0\n",
            "Type 'y' to continue calculating with 16.0, type 'n' to make a new calculation, or type 'E' to exit: y\n",
            "Pick another operation: r\n"
          ]
        },
        {
          "output_type": "execute_result",
          "data": {
            "text/plain": [
              "'Invalid operation'"
            ],
            "application/vnd.google.colaboratory.intrinsic+json": {
              "type": "string"
            }
          },
          "metadata": {},
          "execution_count": 81
        }
      ]
    }
  ]
}