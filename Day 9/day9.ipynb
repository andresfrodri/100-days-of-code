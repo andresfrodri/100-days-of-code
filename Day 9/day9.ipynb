{
  "nbformat": 4,
  "nbformat_minor": 0,
  "metadata": {
    "colab": {
      "name": "day9.ipynb",
      "provenance": [],
      "collapsed_sections": []
    },
    "kernelspec": {
      "name": "python3",
      "display_name": "Python 3"
    },
    "language_info": {
      "name": "python"
    }
  },
  "cells": [
    {
      "cell_type": "code",
      "source": [
        "programming_dictionary = {\n",
        "  \"Bug\": \"An error in a program that prevents the program from running as expected.\", \n",
        "  \"Function\": \"A piece of code that you can easily call over and over again.\",\n",
        "}\n",
        "\n",
        "print(programming_dictionary[\"Function\"])\n",
        "\n",
        "programming_dictionary"
      ],
      "metadata": {
        "id": "RTzQ0DXJRxxC",
        "colab": {
          "base_uri": "https://localhost:8080/"
        },
        "outputId": "7d915008-0a76-43b8-fd3f-36db1e31e58d"
      },
      "execution_count": null,
      "outputs": [
        {
          "output_type": "stream",
          "name": "stdout",
          "text": [
            "A piece of code that you can easily call over and over again.\n"
          ]
        },
        {
          "output_type": "execute_result",
          "data": {
            "text/plain": [
              "{'Bug': 'An error in a program that prevents the program from running as expected.',\n",
              " 'Function': 'A piece of code that you can easily call over and over again.'}"
            ]
          },
          "metadata": {},
          "execution_count": 1
        }
      ]
    },
    {
      "cell_type": "code",
      "source": [
        "for key in programming_dictionary:\n",
        "  print(key)\n",
        "  print(programming_dictionary[key])"
      ],
      "metadata": {
        "colab": {
          "base_uri": "https://localhost:8080/"
        },
        "id": "vBDo3kdJZrKp",
        "outputId": "d4d63752-3677-43de-94b6-0e0054663511"
      },
      "execution_count": null,
      "outputs": [
        {
          "output_type": "stream",
          "name": "stdout",
          "text": [
            "Bug\n",
            "An error in a program that prevents the program from running as expected.\n",
            "Function\n",
            "A piece of code that you can easily call over and over again.\n"
          ]
        }
      ]
    },
    {
      "cell_type": "markdown",
      "source": [
        "Coding excersice\n"
      ],
      "metadata": {
        "id": "kKU1C1-oZ30n"
      }
    },
    {
      "cell_type": "code",
      "source": [
        "student_scores = {\n",
        "  \"Harry\": 81,\n",
        "  \"Ron\": 78,\n",
        "  \"Hermione\": 99, \n",
        "  \"Draco\": 74,\n",
        "  \"Neville\": 62,\n",
        "}\n",
        "\n",
        "student_grades ={}\n",
        "\n",
        "for key in student_scores:\n",
        "  score = student_scores[key]\n",
        "  if student_scores[key]>90:\n",
        "    student_grades[key] = \"Outstanding\"\n",
        "  elif score>80:\n",
        "    student_grades[key]=\"Exceeds Expectations\"\n",
        "  elif score>70:\n",
        "    student_grades[key]=\"Acceptable\"\n",
        "  else:\n",
        "    student_grades[key]=\"Troll\"\n",
        "\n",
        "print(student_grades)"
      ],
      "metadata": {
        "colab": {
          "base_uri": "https://localhost:8080/"
        },
        "id": "AF_nT-RoZ5za",
        "outputId": "75c236a9-568b-436f-dcfa-1ad1cf07c9dd"
      },
      "execution_count": null,
      "outputs": [
        {
          "output_type": "stream",
          "name": "stdout",
          "text": [
            "{'Harry': 'Exceeds Expectations', 'Ron': 'Acceptable', 'Hermione': 'Outstanding', 'Draco': 'Acceptable', 'Neville': 'Troll'}\n"
          ]
        }
      ]
    },
    {
      "cell_type": "markdown",
      "source": [
        "Nesting"
      ],
      "metadata": {
        "id": "DA_WSVM2du0n"
      }
    },
    {
      "cell_type": "code",
      "source": [
        "capitals ={\n",
        "    \"France\":\"Paris\",\n",
        "    \"Spain\":\"Madrid\",\n",
        "    \"Colombia\":\"Bogotá\",\n",
        "    \"Unites States\":\"Washington\",\n",
        "    \"Germany\":\"Berlin\",\n",
        "}\n",
        "\n",
        "#Nesting a list in a dictionary\n",
        "\n",
        "travel_log={\n",
        "    \"France\":[\"Paris\",\"Lille\",\"Dijon\"],\n",
        "    \"Germany\":[\"Berlin\",\"Frankfurt\",\"Hamburg\"]\n",
        "}\n",
        "\n",
        "a=[\"A\", \"B\", [\"C\",\"D\"]]\n",
        "\n",
        "#Nesting a dictionary in a dictionary\n",
        "\n",
        "travel_log2={\n",
        "    \"France\":{\"cities_visited\":[\"Paris\",\"Lille\",\"Dijon\"]},\n",
        "    \"Germany\":{\"cities_visited\":[\"Berlin\",\"Frankfurt\",\"Hamburg\"], \"total_visists\":5},\n",
        "}\n",
        "\n",
        "#Nesting a dictionary in a list\n",
        "\n",
        "travel_log =[\n",
        "    {\n",
        "    \"country\": \"France\", \n",
        "    \"visists\":12,\n",
        "    \"cities\":[\"Paris\",\"Lille\",\"Dijon\"], \n",
        "     },\n",
        "    {\n",
        "      \"country\": \"Germany\",\n",
        "      \"visists\":5,\n",
        "      \"cities\":[\"Berlin\",\"Frankfurt\",\"Hamburg\"], \n",
        "     },\n",
        "    ]"
      ],
      "metadata": {
        "id": "TNBAaOyUdwTT"
      },
      "execution_count": null,
      "outputs": []
    },
    {
      "cell_type": "code",
      "source": [
        "def add_new_country(country,visits,cities):\n",
        "  travel_log.append({\"country\":country,\"visits\":visits,\"cities\":cities})\n",
        "  return travel_log\n",
        "\n",
        "add_new_country(\"Russia\", 2, [\"Moscow\", \"Saint Petersburg\"])\n",
        "print(travel_log)"
      ],
      "metadata": {
        "colab": {
          "base_uri": "https://localhost:8080/"
        },
        "id": "P-6WCyCXi9-7",
        "outputId": "35e3f6d9-61fb-4427-deb8-1c62bc66d8a3"
      },
      "execution_count": null,
      "outputs": [
        {
          "output_type": "stream",
          "name": "stdout",
          "text": [
            "[{'country': 'France', 'visists': 12, 'cities': ['Paris', 'Lille', 'Dijon']}, {'country': 'Germany', 'visists': 5, 'cities': ['Berlin', 'Frankfurt', 'Hamburg']}, {'country': 'Russia', 'visits': 2, 'cities': ['Moscow', 'Saint Petersburg']}]\n"
          ]
        }
      ]
    },
    {
      "cell_type": "markdown",
      "source": [
        "#Proyecto del dia"
      ],
      "metadata": {
        "id": "3yCqD5o2my99"
      }
    },
    {
      "cell_type": "code",
      "source": [
        "logo = '''\n",
        "                         ___________\n",
        "                         \\         /\n",
        "                          )_______(\n",
        "                          |\"\"\"\"\"\"\"|_.-._,.---------.,_.-._\n",
        "                          |       | | |               | | ''-.\n",
        "                          |       |_| |_             _| |_..-'\n",
        "                          |_______| '-' `'---------'` '-'\n",
        "                          )\"\"\"\"\"\"\"(\n",
        "                         /_________\\\\\n",
        "                       .-------------.\n",
        "                      /_______________\\\\\n",
        "'''"
      ],
      "metadata": {
        "id": "O5rOHDsrm3gk"
      },
      "execution_count": 10,
      "outputs": []
    },
    {
      "cell_type": "code",
      "source": [
        "print(logo)\n",
        "a=input(\"What's your name?: \")\n",
        "b=int(input(\"What's your bid?: $\"))\n",
        "l0=[]\n",
        "l1=[]\n",
        "l2=[]\n",
        "c=True\n",
        "\n",
        "while c==True:\n",
        "  d={a:b}\n",
        "  l0.append(d)\n",
        "  e=input('Are there any other bidders? Type yes or no. ')\n",
        "  if e == 'no':\n",
        "    c=False\n",
        "  elif e=='yes':\n",
        "    a=input(\"What's your name?: \")\n",
        "    b=int(input(\"What's your bid?: $\"))\n",
        "  else:\n",
        "    print(\"Follow instructions!\")\n",
        "for i in l0:\n",
        "  for j in i:\n",
        "    l1.append(i[j])\n",
        "    l2.append(j)\n",
        "    bb=max(l1)\n",
        "    aa=l2[l1.index(bb)]\n",
        "    \n",
        "\n",
        "print(f\"The winner is {aa} with a bid of ${max(l1)}\")\n",
        "    \n"
      ],
      "metadata": {
        "colab": {
          "base_uri": "https://localhost:8080/"
        },
        "id": "OdRYlwNVigu7",
        "outputId": "11ae3412-0c09-4258-ab69-a1dbe7d44ce5"
      },
      "execution_count": 48,
      "outputs": [
        {
          "output_type": "stream",
          "name": "stdout",
          "text": [
            "\n",
            "                         ___________\n",
            "                         \\         /\n",
            "                          )_______(\n",
            "                          |\"\"\"\"\"\"\"|_.-._,.---------.,_.-._\n",
            "                          |       | | |               | | ''-.\n",
            "                          |       |_| |_             _| |_..-'\n",
            "                          |_______| '-' `'---------'` '-'\n",
            "                          )\"\"\"\"\"\"\"(\n",
            "                         /_________\\\n",
            "                       .-------------.\n",
            "                      /_______________\\\n",
            "\n",
            "What's your name?: Salad\n",
            "What's your bid?: $33\n",
            "Are there any other bidders? Type yes or no. yes\n",
            "What's your name?: Salad2\n",
            "What's your bid?: $333\n",
            "Are there any other bidders? Type yes or no. no\n",
            "The winner is Salad2 with a bid of $333\n"
          ]
        }
      ]
    }
  ]
}