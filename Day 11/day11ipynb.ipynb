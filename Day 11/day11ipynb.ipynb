{
  "nbformat": 4,
  "nbformat_minor": 0,
  "metadata": {
    "colab": {
      "provenance": [],
      "collapsed_sections": []
    },
    "kernelspec": {
      "name": "python3",
      "display_name": "Python 3"
    },
    "language_info": {
      "name": "python"
    }
  },
  "cells": [
    {
      "cell_type": "markdown",
      "source": [
        "#Day 11: Blackjack Capstone project "
      ],
      "metadata": {
        "id": "S_XlGzT6vgi4"
      }
    },
    {
      "cell_type": "code",
      "source": [
        "import random as rd\n",
        "deck = {'A' : [1, 11], 2 : 2, 3 : 3, 4 : 4, 5 : 5, 6 : 6, 7 : 7, 8 : 8, 9 : 9, 10 : 10 , \"J\" : 10, \n",
        "        \"Q\" : 10, \"K\" : 10}\n",
        "deck_keys=list(deck)\n",
        "deck_values=list(deck.values())\n",
        "null_0=[0,0]\n",
        "null_1=[1]\n",
        "l0=[]\n",
        "l1=[]\n",
        "\n",
        "dealer_cards=[]\n",
        "\n",
        "for i in null_0:\n",
        "  l0.append(deck_keys[rd.randint(0,12)])\n",
        "  \n",
        "\n",
        "for i in l0:\n",
        "  l1.append(deck.get(i))\n",
        "\n",
        "#a=input(\"Do you want to play a game of Blackjack? Type 'y' or 'n':\")\n",
        "\n",
        "print(f\"Your cards are: {l0}\")\n",
        "if [1,11] in l1:\n",
        "  b=True\n",
        "  a=int(input(\"Do you choose your A as a 1 or as 11? \"))\n",
        "  while b:\n",
        "    if a==1:\n",
        "      l1[l1.index([1,11])]=1\n",
        "      b=False\n",
        "    elif a==11:\n",
        "      l1[l1.index([1,11])]=11\n",
        "      b=False\n",
        "    else:\n",
        "      print(\"Don't cheat!\")\n",
        "  \n",
        "\n",
        "score= sum(l1)\n",
        "print(f\"Your score is {score}\")"
      ],
      "metadata": {
        "colab": {
          "base_uri": "https://localhost:8080/"
        },
        "id": "C9MIB9kNih95",
        "outputId": "f81cc0d7-9a28-4a61-c647-b71c30212dea"
      },
      "execution_count": 222,
      "outputs": [
        {
          "output_type": "stream",
          "name": "stdout",
          "text": [
            "Your cards are: [6, 'J']\n",
            "Your score is 16\n"
          ]
        }
      ]
    },
    {
      "cell_type": "code",
      "source": [
        "logo = \"\"\"\n",
        ".------.            _     _            _    _            _    \n",
        "|A_  _ |.          | |   | |          | |  (_)          | |   \n",
        "|( \\/ ).-----.     | |__ | | __ _  ___| | ___  __ _  ___| | __\n",
        "| \\  /|K /\\  |     | '_ \\| |/ _` |/ __| |/ / |/ _` |/ __| |/ /\n",
        "|  \\/ | /  \\ |     | |_) | | (_| | (__|   <| | (_| | (__|   < \n",
        "`-----| \\  / |     |_.__/|_|\\__,_|\\___|_|\\_\\ |\\__,_|\\___|_|\\_\\\\\n",
        "      |  \\/ K|                            _/ |                \n",
        "      `------'                           |__/           \n",
        "\"\"\"\n",
        "                   \n"
      ],
      "metadata": {
        "id": "ft9EXjQmZjzX"
      },
      "execution_count": 261,
      "outputs": []
    },
    {
      "cell_type": "code",
      "source": [
        "import random as rd\n",
        "\n",
        "cards = [11, 2, 3, 4, 5, 6, 7, 8, 9, 10, 10, 10, 10]\n",
        "primal_flag = True\n",
        "a=True\n",
        "\n",
        "player_cards=[]\n",
        "\n",
        "dealer_cards=[]\n",
        "\n",
        "\n",
        "\n",
        "def compare(player, dealer):\n",
        "  if player>21:\n",
        "    print(f\"Your final hand: {player_cards}, final score: \")\n",
        "    primal_flag = False\n",
        "  else:\n",
        "    primal_flag = False\n",
        "  \n",
        "\n",
        "\n",
        "while a:\n",
        "  if len(player_cards)<2:\n",
        "    player_cards.append(cards[rd.randint(0,12)])\n",
        "    dealer_cards.append(cards[rd.randint(0,12)])\n",
        "  else:\n",
        "    a = False\n",
        "\n",
        "score_player=sum(player_cards)\n",
        "score_dealer = sum(dealer_cards)\n",
        "\n",
        "print(f\"Your cards: {player_cards}, current score: {sum(player_cards)}\")\n",
        "print(f\"Computer's first card: {dealer_cards[0]}\")\n",
        "\n",
        "#while primal_flag:\n",
        "  #compare(score_player, score_dealer)\n"
      ],
      "metadata": {
        "colab": {
          "base_uri": "https://localhost:8080/"
        },
        "id": "m9EFiKr3URc7",
        "outputId": "c8aaf7e8-26db-4602-b90b-7b8de4a32f81"
      },
      "execution_count": 270,
      "outputs": [
        {
          "output_type": "stream",
          "name": "stdout",
          "text": [
            "Your cards: [11, 10], current score: 21\n",
            "Computer's first card: 4\n"
          ]
        }
      ]
    },
    {
      "cell_type": "code",
      "source": [
        "import random as rd\n",
        "\n",
        "cards = [11, 2, 3, 4, 5, 6, 7, 8, 9, 10, 10, 10, 10]\n",
        "\n",
        "player_cards=[]\n",
        "\n",
        "dealer_cards=[]\n",
        "def compare(player, dealer):\n",
        "  if player>21:\n",
        "    print(f\"Your final hand: {player_cards}, final score: {}\")\n",
        "    primal_flag = False\n",
        "  else:\n",
        "    primal_flag = False\n",
        "\n",
        "def blackjack():\n",
        "\n",
        "\n",
        "  a=True\n",
        "  b=True\n",
        "  \n",
        "  while a:\n",
        "    if len(player_cards)<2:\n",
        "      player_cards.append(cards[rd.randint(0,12)])\n",
        "      dealer_cards.append(cards[rd.randint(0,12)])\n",
        "    else:\n",
        "      a = False\n",
        "  print(logo)\n",
        "  print(f\"Your cards: {player_cards}, current score: {sum(player_cards)}\")\n",
        "  print(f\"Computer's first card: {dealer_cards[0]}\")\n",
        "  q=input(\"Type 'y' to get another card, type 'n' to pass: \")\n",
        "  if q != 'y':\n",
        "    print(f\"Your final hand: {player_cards}, final score: {sum(player_cards)}\")\n",
        "    if sum(dealer_cards)<=17 or sum(dealer_cards)>21:\n",
        "      dealer_cards.append(cards[rd.randint(0,12)])\n",
        "    print(f\"Computer's final hand: {dealer_cards}, final score: {sum(dealer_cards)}\")\n",
        "    return\n",
        "  \n",
        "aa=input(\"Do you want to play a game of Blackjack? Type 'y' or 'n': \")\n",
        "if aa != 'y':\n",
        "  print('')\n",
        "else:\n",
        "  blackjack()    \n"
      ],
      "metadata": {
        "colab": {
          "base_uri": "https://localhost:8080/"
        },
        "id": "PDZ6TU7_ch_7",
        "outputId": "33acf808-e0a3-47de-cba7-5c6be851aaf1"
      },
      "execution_count": 309,
      "outputs": [
        {
          "output_type": "stream",
          "name": "stdout",
          "text": [
            "Do you want to play a game of Blackjack? Type 'y' or 'n': y\n",
            "\n",
            ".------.            _     _            _    _            _    \n",
            "|A_  _ |.          | |   | |          | |  (_)          | |   \n",
            "|( \\/ ).-----.     | |__ | | __ _  ___| | ___  __ _  ___| | __\n",
            "| \\  /|K /\\  |     | '_ \\| |/ _` |/ __| |/ / |/ _` |/ __| |/ /\n",
            "|  \\/ | /  \\ |     | |_) | | (_| | (__|   <| | (_| | (__|   < \n",
            "`-----| \\  / |     |_.__/|_|\\__,_|\\___|_|\\_\\ |\\__,_|\\___|_|\\_\\\n",
            "      |  \\/ K|                            _/ |                \n",
            "      `------'                           |__/           \n",
            "\n",
            "Your cards: [10, 10], current score: 20\n",
            "Computer's first card: 10\n",
            "Type 'y' to get another card, type 'n' to pass: g\n",
            "Your final hand: [10, 10], final score: 20\n",
            "Computer's final hand: [10, 11], final score: 21\n"
          ]
        }
      ]
    },
    {
      "cell_type": "code",
      "source": [
        "import random as rd\n",
        "\n",
        "cards = [11, 2, 3, 4, 5, 6, 7, 8, 9, 10, 10, 10, 10]\n",
        "\n",
        "\n",
        "\n",
        "def calculate_score(list):\n",
        "  if sum(list)==21 and len(list)==2:\n",
        "    return 0\n",
        "  if 11 in list and sum(list) > 21:\n",
        "    list.remove(11)\n",
        "    list.append(1)\n",
        "  return sum(list)\n",
        "\n",
        "def compare(user_score, computer_score):\n",
        "  if user_score > 21 and computer_score > 21:\n",
        "    return \"Both went over. You lose \"\n",
        "\n",
        "  if user_score == computer_score:\n",
        "    return \"Draw\"\n",
        "  elif computer_score == 0:\n",
        "    return 'The computer won has a blackjack'\n",
        "  elif user_score == 0:\n",
        "    return 'You won with a blackjack'\n",
        "  elif user_score>21:\n",
        "    return 'The computer won!'\n",
        "  elif computer_score>21:\n",
        "    return 'You won!'\n",
        "  elif user_score > computer_score:\n",
        "    return \"You won!\"\n",
        "  else:\n",
        "    return \"You lost!\"\n",
        "\n",
        "def blackjack():\n",
        "  print(logo)\n",
        "\n",
        "  player_cards=[]\n",
        "\n",
        "  dealer_cards=[]\n",
        "\n",
        "  primal_flag=True\n",
        "\n",
        "\n",
        "  for i in range(2):\n",
        "    player_cards.append(rd.choice(cards))\n",
        "    dealer_cards.append(rd.choice(cards))\n",
        "\n",
        "  while primal_flag:\n",
        "    player_score = calculate_score(player_cards)\n",
        "    dealer_score = calculate_score(dealer_cards)\n",
        "    print(f\"Your cards: {player_cards}, current score: {player_score}\")\n",
        "    print(f\"Computer's first card: {dealer_cards[0]}\")\n",
        "    if dealer_score == 0 or player_score == 0 or player_score > 21:\n",
        "      primal_flag = False\n",
        "    else:\n",
        "      q=input(\"Type 'y' to get another card, type 'n' to pass: \")\n",
        "      if q != \"y\":\n",
        "        primal_flag = False\n",
        "      else:\n",
        "        player_cards.append(rd.choice(cards))\n",
        "        \n",
        "  while dealer_score < 17 and dealer_score != 0:\n",
        "    dealer_cards.append(rd.choice(cards))\n",
        "    dealer_score = calculate_score(dealer_cards)\n",
        "  print(f\"   Your final hand: {player_cards}, final score: {player_score}\")\n",
        "  print(f\"   Computer's final hand: {dealer_cards}, final score: {dealer_score}\")\n",
        "  print(compare(player_score, dealer_score))\n",
        "\n",
        "while input(\"Do you want to play a game of Blackjack? Type 'y' or 'n': \") == \"y\":\n",
        "  blackjack()\n",
        "\n"
      ],
      "metadata": {
        "colab": {
          "base_uri": "https://localhost:8080/"
        },
        "id": "tAtErQSQi9tH",
        "outputId": "1e8a72e8-36f2-4fd3-cc14-eebbcff699ce"
      },
      "execution_count": 327,
      "outputs": [
        {
          "name": "stdout",
          "output_type": "stream",
          "text": [
            "Do you want to play a game of Blackjack? Type 'y' or 'n': y\n",
            "\n",
            ".------.            _     _            _    _            _    \n",
            "|A_  _ |.          | |   | |          | |  (_)          | |   \n",
            "|( \\/ ).-----.     | |__ | | __ _  ___| | ___  __ _  ___| | __\n",
            "| \\  /|K /\\  |     | '_ \\| |/ _` |/ __| |/ / |/ _` |/ __| |/ /\n",
            "|  \\/ | /  \\ |     | |_) | | (_| | (__|   <| | (_| | (__|   < \n",
            "`-----| \\  / |     |_.__/|_|\\__,_|\\___|_|\\_\\ |\\__,_|\\___|_|\\_\\\n",
            "      |  \\/ K|                            _/ |                \n",
            "      `------'                           |__/           \n",
            "\n",
            "Your cards: [3, 10], current score: 13\n",
            "Computer's first card: 10\n",
            "Type 'y' to get another card, type 'n' to pass: y\n",
            "Your cards: [3, 10, 8], current score: 21\n",
            "Computer's first card: 10\n",
            "Type 'y' to get another card, type 'n' to pass: y\n",
            "Your cards: [3, 10, 8, 10], current score: 31\n",
            "Computer's first card: 10\n",
            "   Your final hand: [3, 10, 8, 10], final score: 31\n",
            "   Computer's final hand: [10, 2, 3, 10], final score: 25\n",
            "Both went over. You lose \n",
            "Do you want to play a game of Blackjack? Type 'y' or 'n': n\n"
          ]
        }
      ]
    }
  ]
}