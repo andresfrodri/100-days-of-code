{
  "nbformat": 4,
  "nbformat_minor": 0,
  "metadata": {
    "colab": {
      "name": "day8.ipynb",
      "provenance": [],
      "collapsed_sections": []
    },
    "kernelspec": {
      "name": "python3",
      "display_name": "Python 3"
    },
    "language_info": {
      "name": "python"
    }
  },
  "cells": [
    {
      "cell_type": "code",
      "source": [
        "def greet():\n",
        "  print(\"Hello world!\")\n",
        "  print(\"How do you do?\")\n",
        "  print(\"How's the weather?\")\n",
        "greet()\n"
      ],
      "metadata": {
        "colab": {
          "base_uri": "https://localhost:8080/"
        },
        "id": "nHZL0wwzFSNc",
        "outputId": "5286c5ea-cbfe-4987-e242-e96c03cbad0d"
      },
      "execution_count": null,
      "outputs": [
        {
          "output_type": "stream",
          "name": "stdout",
          "text": [
            "Hello world!\n",
            "How do you do?\n",
            "How's the weather?\n"
          ]
        }
      ]
    },
    {
      "cell_type": "code",
      "source": [
        "#Function that allows for input\n",
        "\n",
        "def greet_with_name(name):\n",
        "  print(f\"Hello {name}\")\n",
        "  print(f\"How do you do {name}?\")\n",
        "\n",
        "greet_with_name(\"Salad\")"
      ],
      "metadata": {
        "colab": {
          "base_uri": "https://localhost:8080/"
        },
        "id": "bkaSznssHndy",
        "outputId": "dc2c76b6-d13f-402f-bc13-a5fca0b6b99c"
      },
      "execution_count": null,
      "outputs": [
        {
          "output_type": "stream",
          "name": "stdout",
          "text": [
            "Hello Salad\n",
            "How do you do Salad?\n"
          ]
        }
      ]
    },
    {
      "cell_type": "code",
      "source": [
        "def greet_with(name,location):\n",
        "  print(f\"Hello {name}\")\n",
        "  print(f\"What is like in {location}?\")\n",
        "greet_with(location=\"Saladland\",name=\"Salad\")"
      ],
      "metadata": {
        "colab": {
          "base_uri": "https://localhost:8080/"
        },
        "id": "l9eijwdiPDRZ",
        "outputId": "0279d0d5-e2e1-418c-fb6a-f36e5bd50679"
      },
      "execution_count": null,
      "outputs": [
        {
          "output_type": "stream",
          "name": "stdout",
          "text": [
            "Hello Salad\n",
            "What is like in Saladland?\n"
          ]
        }
      ]
    },
    {
      "cell_type": "code",
      "source": [
        "import math\n",
        "#Paint can calculator\n",
        "coverage=5\n",
        "def paint(height, width, coverage):\n",
        "  num_of_cans=math.ceil(height*width/coverage)\n",
        "  print(f\"You'll need {num_of_cans} cans of paint\")\n",
        "paint(7,13,5)"
      ],
      "metadata": {
        "colab": {
          "base_uri": "https://localhost:8080/"
        },
        "id": "-LkjLwa5SWOo",
        "outputId": "9a4d0adc-1638-4563-ff64-b502bddec5e5"
      },
      "execution_count": null,
      "outputs": [
        {
          "output_type": "stream",
          "name": "stdout",
          "text": [
            "You'll need 19 cans of paint\n"
          ]
        }
      ]
    },
    {
      "cell_type": "code",
      "source": [
        "def prime_checker(number):\n",
        "  is_prime=True\n",
        "  for i in range(2,number):\n",
        "    if number %i == 0:\n",
        "      is_prime=False\n",
        "  if is_prime ==True:\n",
        "    print(\"It's a prime number.\")\n",
        "  else:\n",
        "    print(\"It's not a prime number.\")\n",
        "prime_checker(47)"
      ],
      "metadata": {
        "colab": {
          "base_uri": "https://localhost:8080/"
        },
        "id": "wVtpUDzW6687",
        "outputId": "41f80531-068c-4bda-b17b-fa1b9583c009"
      },
      "execution_count": null,
      "outputs": [
        {
          "output_type": "stream",
          "name": "stdout",
          "text": [
            "It's a prime number.\n"
          ]
        }
      ]
    },
    {
      "cell_type": "code",
      "source": [
        "alphabet = ['a', 'b', 'c', 'd', 'e', 'f', 'g', 'h', 'i', 'j', 'k', 'l', 'm', 'n', 'o', 'p', 'q', 'r', 's', 't', 'u', 'v', 'w', 'x', 'y', 'z']\n",
        "\n",
        "direction = input(\"Type 'encode' to encrypt, type 'decode' to decrypt:\\n\")\n",
        "text = input(\"Type your message:\\n\").lower()\n",
        "shift = int(input(\"Type the shift number:\\n\"))\n",
        "def caesar(plain_text,shift_amount, direction):\n",
        "  cipher_text=\"\"\n",
        "  for letter in plain_text:\n",
        "    position=alphabet.index(letter)\n",
        "    if direction==\"encode\":\n",
        "      new_position=position+shift_amount\n",
        "      if new_position>26:\n",
        "        new_position=new_position-26\n",
        "        new_letter=alphabet[new_position]\n",
        "      else:\n",
        "        new_letter=alphabet[new_position]\n",
        "      cipher_text += new_letter\n",
        "    elif direction==\"decode\":\n",
        "      real=position-shift_amount\n",
        "      if real<0:\n",
        "        real=real+26\n",
        "        real_letter=alphabet[real]\n",
        "      else:\n",
        "        real_letter=alphabet[real]\n",
        "      cipher_text += real_letter\n",
        "  print(f\"The {direction}d text is {cipher_text}\")\n",
        "\n",
        "caesar(text,shift,direction)"
      ],
      "metadata": {
        "colab": {
          "base_uri": "https://localhost:8080/",
          "height": 449
        },
        "id": "yuAqi57_XoDU",
        "outputId": "e8aa5560-83c2-4bf1-e444-1ec3ed76ce57"
      },
      "execution_count": 4,
      "outputs": [
        {
          "name": "stdout",
          "output_type": "stream",
          "text": [
            "Type 'encode' to encrypt, type 'decode' to decrypt:\n",
            "encode\n",
            "Type your message:\n",
            "wwwe 3\n",
            "Type the shift number:\n",
            "2\n"
          ]
        },
        {
          "output_type": "error",
          "ename": "ValueError",
          "evalue": "ignored",
          "traceback": [
            "\u001b[0;31m---------------------------------------------------------------------------\u001b[0m",
            "\u001b[0;31mValueError\u001b[0m                                Traceback (most recent call last)",
            "\u001b[0;32m<ipython-input-4-7a539e9602c1>\u001b[0m in \u001b[0;36m<module>\u001b[0;34m\u001b[0m\n\u001b[1;32m     26\u001b[0m   \u001b[0mprint\u001b[0m\u001b[0;34m(\u001b[0m\u001b[0;34mf\"The {direction}d text is {cipher_text}\"\u001b[0m\u001b[0;34m)\u001b[0m\u001b[0;34m\u001b[0m\u001b[0;34m\u001b[0m\u001b[0m\n\u001b[1;32m     27\u001b[0m \u001b[0;34m\u001b[0m\u001b[0m\n\u001b[0;32m---> 28\u001b[0;31m \u001b[0mcaesar\u001b[0m\u001b[0;34m(\u001b[0m\u001b[0mtext\u001b[0m\u001b[0;34m,\u001b[0m\u001b[0mshift\u001b[0m\u001b[0;34m,\u001b[0m\u001b[0mdirection\u001b[0m\u001b[0;34m)\u001b[0m\u001b[0;34m\u001b[0m\u001b[0;34m\u001b[0m\u001b[0m\n\u001b[0m",
            "\u001b[0;32m<ipython-input-4-7a539e9602c1>\u001b[0m in \u001b[0;36mcaesar\u001b[0;34m(plain_text, shift_amount, direction)\u001b[0m\n\u001b[1;32m      7\u001b[0m   \u001b[0mcipher_text\u001b[0m\u001b[0;34m=\u001b[0m\u001b[0;34m\"\"\u001b[0m\u001b[0;34m\u001b[0m\u001b[0;34m\u001b[0m\u001b[0m\n\u001b[1;32m      8\u001b[0m   \u001b[0;32mfor\u001b[0m \u001b[0mletter\u001b[0m \u001b[0;32min\u001b[0m \u001b[0mplain_text\u001b[0m\u001b[0;34m:\u001b[0m\u001b[0;34m\u001b[0m\u001b[0;34m\u001b[0m\u001b[0m\n\u001b[0;32m----> 9\u001b[0;31m     \u001b[0mposition\u001b[0m\u001b[0;34m=\u001b[0m\u001b[0malphabet\u001b[0m\u001b[0;34m.\u001b[0m\u001b[0mindex\u001b[0m\u001b[0;34m(\u001b[0m\u001b[0mletter\u001b[0m\u001b[0;34m)\u001b[0m\u001b[0;34m\u001b[0m\u001b[0;34m\u001b[0m\u001b[0m\n\u001b[0m\u001b[1;32m     10\u001b[0m     \u001b[0;32mif\u001b[0m \u001b[0mdirection\u001b[0m\u001b[0;34m==\u001b[0m\u001b[0;34m\"encode\"\u001b[0m\u001b[0;34m:\u001b[0m\u001b[0;34m\u001b[0m\u001b[0;34m\u001b[0m\u001b[0m\n\u001b[1;32m     11\u001b[0m       \u001b[0mnew_position\u001b[0m\u001b[0;34m=\u001b[0m\u001b[0mposition\u001b[0m\u001b[0;34m+\u001b[0m\u001b[0mshift_amount\u001b[0m\u001b[0;34m\u001b[0m\u001b[0;34m\u001b[0m\u001b[0m\n",
            "\u001b[0;31mValueError\u001b[0m: ' ' is not in list"
          ]
        }
      ]
    },
    {
      "cell_type": "code",
      "source": [
        "def caesar(start_text, shift_amount, cipher_direction):\n",
        "  end_text = \"\"\n",
        "  if cipher_direction == \"decode\":\n",
        "    shift_amount *= -1\n",
        "  for char in start_text:\n",
        "    #TODO-3: What happens if the user enters a number/symbol/space?\n",
        "    #Can you fix the code to keep the number/symbol/space when the text is encoded/decoded?\n",
        "    #e.g. start_text = \"meet me at 3\"\n",
        "    #end_text = \"•••• •• •• 3\"\n",
        "    if char in alphabet:\n",
        "      position = alphabet.index(char)\n",
        "      new_position = position + shift_amount\n",
        "      end_text += alphabet[new_position]\n",
        "    else:\n",
        "      end_text += char\n",
        "  print(f\"Here's the {cipher_direction}d result: {end_text}\")\n",
        "\n",
        "#TODO-1: Import and print the logo from art.py when the program starts.\n",
        "#from art import logo\n",
        "#print(logo)\n",
        "\n",
        "#TODO-4: Can you figure out a way to ask the user if they want to restart the cipher program?\n",
        "#e.g. Type 'yes' if you want to go again. Otherwise type 'no'.\n",
        "#If they type 'yes' then ask them for the direction/text/shift again and call the caesar() function again?\n",
        "#Hint: Try creating a while loop that continues to execute the program if the user types 'yes'.\n",
        "should_end = False\n",
        "while not should_end:\n",
        "\n",
        "  direction = input(\"Type 'encode' to encrypt, type 'decode' to decrypt:\\n\")\n",
        "  text = input(\"Type your message:\\n\").lower()\n",
        "  shift = int(input(\"Type the shift number:\\n\"))\n",
        "  #TODO-2: What if the user enters a shift that is greater than the number of letters in the alphabet?\n",
        "  #Try running the program and entering a shift number of 45.\n",
        "  #Add some code so that the program continues to work even if the user enters a shift number greater than 26. \n",
        "  #Hint: Think about how you can use the modulus (%).\n",
        "  shift = shift % 26\n",
        "\n",
        "  caesar(start_text=text, shift_amount=shift, cipher_direction=direction)\n",
        "\n",
        "  restart = input(\"Type 'yes' if you want to go again. Otherwise type 'no'.\\n\")\n",
        "  if restart == \"no\":\n",
        "    should_end = True\n",
        "    print(\"Goodbye\")"
      ],
      "metadata": {
        "id": "vR_TnU4RHzmI"
      },
      "execution_count": null,
      "outputs": []
    }
  ]
}