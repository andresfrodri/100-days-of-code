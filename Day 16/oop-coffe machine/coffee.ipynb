{
 "cells": [
  {
   "cell_type": "code",
   "execution_count": 1,
   "metadata": {},
   "outputs": [],
   "source": [
    "from menu import Menu, MenuItem\n",
    "from coffee_maker import CoffeeMaker\n",
    "from money_machine import MoneyMachine"
   ]
  },
  {
   "cell_type": "code",
   "execution_count": 2,
   "metadata": {},
   "outputs": [],
   "source": [
    "#Let's define the objects that we're going to use\n",
    "\n",
    "my_money_machine = MoneyMachine()\n",
    "coffe_maker = CoffeeMaker()\n",
    "menu = Menu()\n",
    "\n",
    "\n",
    "is_on = True\n"
   ]
  },
  {
   "cell_type": "code",
   "execution_count": null,
   "metadata": {},
   "outputs": [],
   "source": [
    "while is_on:\n",
    "    options = menu.get_items() #Checks the menu items\n",
    "    choice = input(f\"What would you like? {options}: \") #Makes the user choose an option\n",
    "    if choice == 'off':\n",
    "        is_on = False #Turns off the machine\n",
    "    elif choice == \"report\":\n",
    "        coffe_maker.report() #Give us back the report of the ingredients\n",
    "        my_money_machine.report() #Give us back the report of the money that the machine has process\n",
    "    else: #When we actually order a drink\n",
    "        drink = menu.find_drink(choice) #Name of the drink chose\n",
    "        if coffe_maker.is_resource_sufficient(drink) and my_money_machine.make_payment(drink.cost):\n",
    "            #checks if there is sufficient resources and money from the user\n",
    "            coffe_maker.make_coffee(drink) #If all is correct then the coffee will be made and the loop \n",
    "            #will start again"
   ]
  }
 ],
 "metadata": {
  "kernelspec": {
   "display_name": "Python 3.10.1 64-bit",
   "language": "python",
   "name": "python3"
  },
  "language_info": {
   "codemirror_mode": {
    "name": "ipython",
    "version": 3
   },
   "file_extension": ".py",
   "mimetype": "text/x-python",
   "name": "python",
   "nbconvert_exporter": "python",
   "pygments_lexer": "ipython3",
   "version": "3.10.1"
  },
  "orig_nbformat": 4,
  "vscode": {
   "interpreter": {
    "hash": "5d5f6d68acdb98a666ac6cbb620ba0c7fef50210cfb22291f01e0bec12f8d8de"
   }
  }
 },
 "nbformat": 4,
 "nbformat_minor": 2
}
