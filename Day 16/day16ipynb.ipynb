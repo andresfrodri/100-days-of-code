{
  "nbformat": 4,
  "nbformat_minor": 0,
  "metadata": {
    "colab": {
      "provenance": [],
      "collapsed_sections": []
    },
    "kernelspec": {
      "name": "python3",
      "display_name": "Python 3"
    },
    "language_info": {
      "name": "python"
    }
  },
  "cells": [
    {
      "cell_type": "markdown",
      "source": [
        "#Day 16: Object oriented programming"
      ],
      "metadata": {
        "id": "aPjIkjdDChsK"
      }
    },
    {
      "cell_type": "code",
      "source": [
        "#classes and objects"
      ],
      "metadata": {
        "id": "m8dS5w8MF7yU"
      },
      "execution_count": null,
      "outputs": []
    },
    {
      "cell_type": "code",
      "source": [],
      "metadata": {
        "id": "WHkexOgECg0M"
      },
      "execution_count": null,
      "outputs": []
    }
  ]
}