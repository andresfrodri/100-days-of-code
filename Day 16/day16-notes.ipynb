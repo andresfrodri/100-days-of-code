{
  "cells": [
    {
      "cell_type": "markdown",
      "metadata": {
        "id": "aPjIkjdDChsK"
      },
      "source": [
        "#Day 16: Object oriented programming"
      ]
    },
    {
      "cell_type": "markdown",
      "metadata": {
        "id": "m8dS5w8MF7yU"
      },
      "source": [
        "Classes and objects"
      ]
    },
    {
      "cell_type": "code",
      "execution_count": 10,
      "metadata": {
        "id": "WHkexOgECg0M"
      },
      "outputs": [],
      "source": [
        "import turtle\n",
        "\n",
        "ham = turtle.Turtle() #ham is the object from the the Turtle class\n",
        "\n",
        "my_screen = turtle.Screen() \n"
      ]
    },
    {
      "cell_type": "code",
      "execution_count": 11,
      "metadata": {},
      "outputs": [
        {
          "name": "stdout",
          "output_type": "stream",
          "text": [
            "300\n"
          ]
        }
      ],
      "source": [
        "print(my_screen.canvheight) #Using the canheight attribute of the Screen class\n",
        "\n",
        "my_screen.exitonclick() #Using the method exitonclick we can exit from the screen\n",
        "ham.shape(\"turtle\") #Use the shape of an actual turtle with the method shape\n",
        "ham.color('DarkGreen') #Change the color of the turtle with the method color"
      ]
    },
    {
      "cell_type": "markdown",
      "metadata": {},
      "source": [
        "Using another library"
      ]
    },
    {
      "cell_type": "code",
      "execution_count": 12,
      "metadata": {},
      "outputs": [
        {
          "name": "stdout",
          "output_type": "stream",
          "text": [
            "++\n",
            "||\n",
            "++\n",
            "++\n"
          ]
        }
      ],
      "source": [
        "import prettytable\n",
        "\n",
        "table = prettytable.PrettyTable()\n",
        "print(table)"
      ]
    },
    {
      "cell_type": "code",
      "execution_count": 13,
      "metadata": {},
      "outputs": [
        {
          "name": "stdout",
          "output_type": "stream",
          "text": [
            "+------------+----------+\n",
            "|  Pokémon   |   Type   |\n",
            "+------------+----------+\n",
            "|  Pikachu   | Electric |\n",
            "|  Squirtle  |  Water   |\n",
            "| Charmander |   Fire   |\n",
            "+------------+----------+\n"
          ]
        }
      ],
      "source": [
        "#Using the method add column let's add some info of some pokémon\n",
        "table.add_column(\"Pokémon\",[\"Pikachu\",\"Squirtle\",\"Charmander\"])\n",
        "table.add_column(\"Type\",[\"Electric\",\"Water\",\"Fire\"])\n",
        "print(table)"
      ]
    },
    {
      "cell_type": "code",
      "execution_count": 14,
      "metadata": {},
      "outputs": [
        {
          "name": "stdout",
          "output_type": "stream",
          "text": [
            "+------------+----------+\n",
            "| Pokémon    | Type     |\n",
            "+------------+----------+\n",
            "| Pikachu    | Electric |\n",
            "| Squirtle   | Water    |\n",
            "| Charmander | Fire     |\n",
            "+------------+----------+\n"
          ]
        }
      ],
      "source": [
        "#Changing the attribute of the table\n",
        "table.align=\"l\"\n",
        "print(table)"
      ]
    }
  ],
  "metadata": {
    "colab": {
      "collapsed_sections": [],
      "provenance": []
    },
    "kernelspec": {
      "display_name": "Python 3.10.1 64-bit",
      "language": "python",
      "name": "python3"
    },
    "language_info": {
      "codemirror_mode": {
        "name": "ipython",
        "version": 3
      },
      "file_extension": ".py",
      "mimetype": "text/x-python",
      "name": "python",
      "nbconvert_exporter": "python",
      "pygments_lexer": "ipython3",
      "version": "3.10.1"
    },
    "vscode": {
      "interpreter": {
        "hash": "5d5f6d68acdb98a666ac6cbb620ba0c7fef50210cfb22291f01e0bec12f8d8de"
      }
    }
  },
  "nbformat": 4,
  "nbformat_minor": 0
}
